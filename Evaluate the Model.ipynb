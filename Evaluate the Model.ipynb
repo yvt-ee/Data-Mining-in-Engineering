{
  "cells": [
    {
      "cell_type": "code",
      "execution_count": 1,
      "id": "78875209-4ec9-4074-8707-9eb81b9b4683",
      "metadata": {
        "id": "78875209-4ec9-4074-8707-9eb81b9b4683",
        "tags": []
      },
      "outputs": [],
      "source": [
        "import numpy as np\n",
        "import pandas as pd\n",
        "from sklearn.metrics import mean_squared_error, mean_absolute_error, r2_score"
      ]
    },
    {
      "cell_type": "code",
      "execution_count": 41,
      "id": "6e96076a-3af9-4c35-a1b0-a23738f986da",
      "metadata": {
        "colab": {
          "base_uri": "https://localhost:8080/",
          "height": 206
        },
        "id": "6e96076a-3af9-4c35-a1b0-a23738f986da",
        "outputId": "7235fcc0-bb2e-4be1-8aa1-5bcc905925ad",
        "tags": []
      },
      "outputs": [
        {
          "data": {
            "application/vnd.google.colaboratory.intrinsic+json": {
              "summary": "{\n  \"name\": \"df\",\n  \"rows\": 100,\n  \"fields\": [\n    {\n      \"column\": \"Y_actual\",\n      \"properties\": {\n        \"dtype\": \"number\",\n        \"std\": 193.45331159288506,\n        \"min\": 2.763786429540116,\n        \"max\": 691.3378324313105,\n        \"num_unique_values\": 100,\n        \"samples\": [\n          183.5509627923652,\n          105.8064137497947,\n          27.971446082984087\n        ],\n        \"semantic_type\": \"\",\n        \"description\": \"\"\n      }\n    },\n    {\n      \"column\": \"Y_predicted\",\n      \"properties\": {\n        \"dtype\": \"number\",\n        \"std\": 193.01232564332858,\n        \"min\": 0.14924010529538645,\n        \"max\": 690.8932740492795,\n        \"num_unique_values\": 100,\n        \"samples\": [\n          188.3727254242958,\n          105.40247704913457,\n          36.06219033473933\n        ],\n        \"semantic_type\": \"\",\n        \"description\": \"\"\n      }\n    }\n  ]\n}",
              "type": "dataframe",
              "variable_name": "df"
            },
            "text/html": [
              "\n",
              "  <div id=\"df-641c861b-58e5-4800-af56-74bab81392d9\" class=\"colab-df-container\">\n",
              "    <div>\n",
              "<style scoped>\n",
              "    .dataframe tbody tr th:only-of-type {\n",
              "        vertical-align: middle;\n",
              "    }\n",
              "\n",
              "    .dataframe tbody tr th {\n",
              "        vertical-align: top;\n",
              "    }\n",
              "\n",
              "    .dataframe thead th {\n",
              "        text-align: right;\n",
              "    }\n",
              "</style>\n",
              "<table border=\"1\" class=\"dataframe\">\n",
              "  <thead>\n",
              "    <tr style=\"text-align: right;\">\n",
              "      <th></th>\n",
              "      <th>Y_actual</th>\n",
              "      <th>Y_predicted</th>\n",
              "    </tr>\n",
              "  </thead>\n",
              "  <tbody>\n",
              "    <tr>\n",
              "      <th>0</th>\n",
              "      <td>539.924450</td>\n",
              "      <td>547.462991</td>\n",
              "    </tr>\n",
              "    <tr>\n",
              "      <th>1</th>\n",
              "      <td>14.526365</td>\n",
              "      <td>17.749084</td>\n",
              "    </tr>\n",
              "    <tr>\n",
              "      <th>2</th>\n",
              "      <td>443.553764</td>\n",
              "      <td>445.244204</td>\n",
              "    </tr>\n",
              "    <tr>\n",
              "      <th>3</th>\n",
              "      <td>524.162718</td>\n",
              "      <td>522.393253</td>\n",
              "    </tr>\n",
              "    <tr>\n",
              "      <th>4</th>\n",
              "      <td>348.954909</td>\n",
              "      <td>354.514704</td>\n",
              "    </tr>\n",
              "  </tbody>\n",
              "</table>\n",
              "</div>\n",
              "    <div class=\"colab-df-buttons\">\n",
              "\n",
              "  <div class=\"colab-df-container\">\n",
              "    <button class=\"colab-df-convert\" onclick=\"convertToInteractive('df-641c861b-58e5-4800-af56-74bab81392d9')\"\n",
              "            title=\"Convert this dataframe to an interactive table.\"\n",
              "            style=\"display:none;\">\n",
              "\n",
              "  <svg xmlns=\"http://www.w3.org/2000/svg\" height=\"24px\" viewBox=\"0 -960 960 960\">\n",
              "    <path d=\"M120-120v-720h720v720H120Zm60-500h600v-160H180v160Zm220 220h160v-160H400v160Zm0 220h160v-160H400v160ZM180-400h160v-160H180v160Zm440 0h160v-160H620v160ZM180-180h160v-160H180v160Zm440 0h160v-160H620v160Z\"/>\n",
              "  </svg>\n",
              "    </button>\n",
              "\n",
              "  <style>\n",
              "    .colab-df-container {\n",
              "      display:flex;\n",
              "      gap: 12px;\n",
              "    }\n",
              "\n",
              "    .colab-df-convert {\n",
              "      background-color: #E8F0FE;\n",
              "      border: none;\n",
              "      border-radius: 50%;\n",
              "      cursor: pointer;\n",
              "      display: none;\n",
              "      fill: #1967D2;\n",
              "      height: 32px;\n",
              "      padding: 0 0 0 0;\n",
              "      width: 32px;\n",
              "    }\n",
              "\n",
              "    .colab-df-convert:hover {\n",
              "      background-color: #E2EBFA;\n",
              "      box-shadow: 0px 1px 2px rgba(60, 64, 67, 0.3), 0px 1px 3px 1px rgba(60, 64, 67, 0.15);\n",
              "      fill: #174EA6;\n",
              "    }\n",
              "\n",
              "    .colab-df-buttons div {\n",
              "      margin-bottom: 4px;\n",
              "    }\n",
              "\n",
              "    [theme=dark] .colab-df-convert {\n",
              "      background-color: #3B4455;\n",
              "      fill: #D2E3FC;\n",
              "    }\n",
              "\n",
              "    [theme=dark] .colab-df-convert:hover {\n",
              "      background-color: #434B5C;\n",
              "      box-shadow: 0px 1px 3px 1px rgba(0, 0, 0, 0.15);\n",
              "      filter: drop-shadow(0px 1px 2px rgba(0, 0, 0, 0.3));\n",
              "      fill: #FFFFFF;\n",
              "    }\n",
              "  </style>\n",
              "\n",
              "    <script>\n",
              "      const buttonEl =\n",
              "        document.querySelector('#df-641c861b-58e5-4800-af56-74bab81392d9 button.colab-df-convert');\n",
              "      buttonEl.style.display =\n",
              "        google.colab.kernel.accessAllowed ? 'block' : 'none';\n",
              "\n",
              "      async function convertToInteractive(key) {\n",
              "        const element = document.querySelector('#df-641c861b-58e5-4800-af56-74bab81392d9');\n",
              "        const dataTable =\n",
              "          await google.colab.kernel.invokeFunction('convertToInteractive',\n",
              "                                                    [key], {});\n",
              "        if (!dataTable) return;\n",
              "\n",
              "        const docLinkHtml = 'Like what you see? Visit the ' +\n",
              "          '<a target=\"_blank\" href=https://colab.research.google.com/notebooks/data_table.ipynb>data table notebook</a>'\n",
              "          + ' to learn more about interactive tables.';\n",
              "        element.innerHTML = '';\n",
              "        dataTable['output_type'] = 'display_data';\n",
              "        await google.colab.output.renderOutput(dataTable, element);\n",
              "        const docLink = document.createElement('div');\n",
              "        docLink.innerHTML = docLinkHtml;\n",
              "        element.appendChild(docLink);\n",
              "      }\n",
              "    </script>\n",
              "  </div>\n",
              "\n",
              "\n",
              "<div id=\"df-bbfbc717-eb94-44bb-a993-f42bf136ddea\">\n",
              "  <button class=\"colab-df-quickchart\" onclick=\"quickchart('df-bbfbc717-eb94-44bb-a993-f42bf136ddea')\"\n",
              "            title=\"Suggest charts\"\n",
              "            style=\"display:none;\">\n",
              "\n",
              "<svg xmlns=\"http://www.w3.org/2000/svg\" height=\"24px\"viewBox=\"0 0 24 24\"\n",
              "     width=\"24px\">\n",
              "    <g>\n",
              "        <path d=\"M19 3H5c-1.1 0-2 .9-2 2v14c0 1.1.9 2 2 2h14c1.1 0 2-.9 2-2V5c0-1.1-.9-2-2-2zM9 17H7v-7h2v7zm4 0h-2V7h2v10zm4 0h-2v-4h2v4z\"/>\n",
              "    </g>\n",
              "</svg>\n",
              "  </button>\n",
              "\n",
              "<style>\n",
              "  .colab-df-quickchart {\n",
              "      --bg-color: #E8F0FE;\n",
              "      --fill-color: #1967D2;\n",
              "      --hover-bg-color: #E2EBFA;\n",
              "      --hover-fill-color: #174EA6;\n",
              "      --disabled-fill-color: #AAA;\n",
              "      --disabled-bg-color: #DDD;\n",
              "  }\n",
              "\n",
              "  [theme=dark] .colab-df-quickchart {\n",
              "      --bg-color: #3B4455;\n",
              "      --fill-color: #D2E3FC;\n",
              "      --hover-bg-color: #434B5C;\n",
              "      --hover-fill-color: #FFFFFF;\n",
              "      --disabled-bg-color: #3B4455;\n",
              "      --disabled-fill-color: #666;\n",
              "  }\n",
              "\n",
              "  .colab-df-quickchart {\n",
              "    background-color: var(--bg-color);\n",
              "    border: none;\n",
              "    border-radius: 50%;\n",
              "    cursor: pointer;\n",
              "    display: none;\n",
              "    fill: var(--fill-color);\n",
              "    height: 32px;\n",
              "    padding: 0;\n",
              "    width: 32px;\n",
              "  }\n",
              "\n",
              "  .colab-df-quickchart:hover {\n",
              "    background-color: var(--hover-bg-color);\n",
              "    box-shadow: 0 1px 2px rgba(60, 64, 67, 0.3), 0 1px 3px 1px rgba(60, 64, 67, 0.15);\n",
              "    fill: var(--button-hover-fill-color);\n",
              "  }\n",
              "\n",
              "  .colab-df-quickchart-complete:disabled,\n",
              "  .colab-df-quickchart-complete:disabled:hover {\n",
              "    background-color: var(--disabled-bg-color);\n",
              "    fill: var(--disabled-fill-color);\n",
              "    box-shadow: none;\n",
              "  }\n",
              "\n",
              "  .colab-df-spinner {\n",
              "    border: 2px solid var(--fill-color);\n",
              "    border-color: transparent;\n",
              "    border-bottom-color: var(--fill-color);\n",
              "    animation:\n",
              "      spin 1s steps(1) infinite;\n",
              "  }\n",
              "\n",
              "  @keyframes spin {\n",
              "    0% {\n",
              "      border-color: transparent;\n",
              "      border-bottom-color: var(--fill-color);\n",
              "      border-left-color: var(--fill-color);\n",
              "    }\n",
              "    20% {\n",
              "      border-color: transparent;\n",
              "      border-left-color: var(--fill-color);\n",
              "      border-top-color: var(--fill-color);\n",
              "    }\n",
              "    30% {\n",
              "      border-color: transparent;\n",
              "      border-left-color: var(--fill-color);\n",
              "      border-top-color: var(--fill-color);\n",
              "      border-right-color: var(--fill-color);\n",
              "    }\n",
              "    40% {\n",
              "      border-color: transparent;\n",
              "      border-right-color: var(--fill-color);\n",
              "      border-top-color: var(--fill-color);\n",
              "    }\n",
              "    60% {\n",
              "      border-color: transparent;\n",
              "      border-right-color: var(--fill-color);\n",
              "    }\n",
              "    80% {\n",
              "      border-color: transparent;\n",
              "      border-right-color: var(--fill-color);\n",
              "      border-bottom-color: var(--fill-color);\n",
              "    }\n",
              "    90% {\n",
              "      border-color: transparent;\n",
              "      border-bottom-color: var(--fill-color);\n",
              "    }\n",
              "  }\n",
              "</style>\n",
              "\n",
              "  <script>\n",
              "    async function quickchart(key) {\n",
              "      const quickchartButtonEl =\n",
              "        document.querySelector('#' + key + ' button');\n",
              "      quickchartButtonEl.disabled = true;  // To prevent multiple clicks.\n",
              "      quickchartButtonEl.classList.add('colab-df-spinner');\n",
              "      try {\n",
              "        const charts = await google.colab.kernel.invokeFunction(\n",
              "            'suggestCharts', [key], {});\n",
              "      } catch (error) {\n",
              "        console.error('Error during call to suggestCharts:', error);\n",
              "      }\n",
              "      quickchartButtonEl.classList.remove('colab-df-spinner');\n",
              "      quickchartButtonEl.classList.add('colab-df-quickchart-complete');\n",
              "    }\n",
              "    (() => {\n",
              "      let quickchartButtonEl =\n",
              "        document.querySelector('#df-bbfbc717-eb94-44bb-a993-f42bf136ddea button');\n",
              "      quickchartButtonEl.style.display =\n",
              "        google.colab.kernel.accessAllowed ? 'block' : 'none';\n",
              "    })();\n",
              "  </script>\n",
              "</div>\n",
              "\n",
              "    </div>\n",
              "  </div>\n"
            ],
            "text/plain": [
              "     Y_actual  Y_predicted\n",
              "0  539.924450   547.462991\n",
              "1   14.526365    17.749084\n",
              "2  443.553764   445.244204\n",
              "3  524.162718   522.393253\n",
              "4  348.954909   354.514704"
            ]
          },
          "execution_count": 41,
          "metadata": {},
          "output_type": "execute_result"
        }
      ],
      "source": [
        "# Generate random data for Y_actual and Y_predicted\n",
        "np.random.seed(10)  # Seed for reproducibility\n",
        "Y_actual = np.random.rand(100) * 700  # 100 random values scaled by 500\n",
        "Y_predicted = Y_actual + np.random.normal(2, 5, 100)  # Add normal noise with mean=2 and std=5\n",
        "\n",
        "df = pd.DataFrame({ \"Y_actual\": Y_actual,\n",
        "                   \"Y_predicted\": Y_predicted\n",
        "    })\n",
        "\n",
        "df.head()"
      ]
    },
    {
      "cell_type": "markdown",
      "id": "2abb063e-327d-401a-9c64-6bdace36e389",
      "metadata": {
        "id": "2abb063e-327d-401a-9c64-6bdace36e389",
        "tags": []
      },
      "source": [
        "## Regression Metrics\n",
        "\n",
        "[Detailed Documentation](https://scikit-learn.org/stable/modules/model_evaluation.html#regression-metrics)"
      ]
    },
    {
      "cell_type": "code",
      "execution_count": 42,
      "id": "bbbdbb13-f3e3-4402-9549-9efe7e2f6b65",
      "metadata": {
        "colab": {
          "base_uri": "https://localhost:8080/"
        },
        "id": "bbbdbb13-f3e3-4402-9549-9efe7e2f6b65",
        "outputId": "99cd5e8a-b7e9-49af-8004-05a9f381cbea",
        "tags": []
      },
      "outputs": [
        {
          "name": "stdout",
          "output_type": "stream",
          "text": [
            "Mean Squared Error (MSE): 30.150790102851467\n",
            "Root Mean Squared Error (RMSE): 5.490973511395905\n",
            "Mean Absolute Error (MAE): 4.336094692964422\n",
            "Mean Absolute Percentage Error (MAPE): 3.7799147955213876%\n",
            "Relative Absolute Error (RAE): 0.026498162422525867\n",
            "Relative Squared Error (RSE): 0.0008137877830136135\n",
            "R-squared: 0.9991862122169863\n"
          ]
        }
      ],
      "source": [
        "# Compute Mean Squared Error (MSE)\n",
        "mse = mean_squared_error(Y_actual, Y_predicted)\n",
        "print(f\"Mean Squared Error (MSE): {mse}\")\n",
        "\n",
        "# Compute Root Mean Squared Error (RMSE)\n",
        "rmse = np.sqrt(mse)\n",
        "print(f\"Root Mean Squared Error (RMSE): {rmse}\")\n",
        "\n",
        "# Compute Mean Absolute Error (MAE)\n",
        "mae = mean_absolute_error(Y_actual, Y_predicted)\n",
        "print(f\"Mean Absolute Error (MAE): {mae}\")\n",
        "\n",
        "# Compute Mean Absolute Percentage Error (MAPE)\n",
        "mape = np.mean(np.abs((Y_actual - Y_predicted) / Y_actual)) * 100\n",
        "print(f\"Mean Absolute Percentage Error (MAPE): {mape}%\")\n",
        "\n",
        "# Compute Relative Absolute Error (RAE)\n",
        "rae = np.sum(np.abs(Y_actual - Y_predicted)) / np.sum(np.abs(Y_actual - np.mean(Y_actual)))\n",
        "print(f\"Relative Absolute Error (RAE): {rae}\")\n",
        "\n",
        "# Compute Relative Squared Error (RSE)\n",
        "rse = np.sum((Y_actual - Y_predicted)**2) / np.sum((Y_actual - np.mean(Y_actual))**2)\n",
        "print(f\"Relative Squared Error (RSE): {rse}\")\n",
        "\n",
        "# Compute R-squared\n",
        "r_squared = r2_score(Y_actual, Y_predicted)\n",
        "print(f\"R-squared: {r_squared}\")"
      ]
    },
    {
      "cell_type": "markdown",
      "id": "9b2818a5-baf0-42b3-bb1c-fbbe90391a08",
      "metadata": {
        "id": "9b2818a5-baf0-42b3-bb1c-fbbe90391a08"
      },
      "source": [
        "This demonstrates how to compute various regression metrics using randomly generated data for `Y_actual` and `Y_predicted`.\n",
        "\n",
        "\n",
        "- **Import Libraries**:\n",
        "  - `numpy`: For numerical operations.\n",
        "  - `sklearn.metrics`: For regression metrics like MSE, MAE, and R2 score.\n",
        "\n",
        "- **Generate Data**:\n",
        "  - `Y_actual`: 100 random values, each scaled up to 100, representing the true values.\n",
        "  - `Y_predicted`: Predicted values generated by adding Gaussian noise to the `Y_actual`, simulating prediction errors.\n",
        "\n",
        "#### Compute Regression Metrics:\n",
        "\n",
        "- **Mean Squared Error (MSE)**:\n",
        "  - Calculated using `mean_squared_error` from sklearn. Represents the average of the squares of the errors—that is, the average squared difference between the estimated values and the actual value.\n",
        "\n",
        "- **Root Mean Squared Error (RMSE)**:\n",
        "  - The square root of MSE, providing a measure of the magnitude of error in the same units as the data.\n",
        "\n",
        "- **Mean Absolute Error (MAE)**:\n",
        "  - Computed with `mean_absolute_error`, representing the mean of the absolute values of the errors. It measures the average magnitude of errors in a set of predictions, without considering their direction.\n",
        "\n",
        "- **Mean Absolute Percentage Error (MAPE)**:\n",
        "  - This metric expresses the error as a percentage. It is useful for understanding the prediction accuracy in terms of percentage.\n",
        "\n",
        "- **Relative Absolute Error (RAE)**:\n",
        "  - Also known as the normalized absolute error, it compares the total absolute error to the total absolute error of a simple predictor that always predicts the mean of the actual values.\n",
        "\n",
        "- **Relative Squared Error (RSE)**:\n",
        "  - Similar to RAE but uses squared differences, thereby penalizing larger errors more severely than smaller ones.\n",
        "\n",
        "- **R-squared**:\n",
        "  - Also known as the coefficient of determination, it provides an indication of goodness of fit and therefore a measure of how well unseen samples are likely to be predicted by the model.\n",
        "  \n",
        "  \n",
        "[More Information ](https://www.geeksforgeeks.org/regression-metrics/)"
      ]
    },
    {
      "cell_type": "markdown",
      "id": "b670c4a2-9741-4771-86b9-24e1c4a73c23",
      "metadata": {
        "id": "b670c4a2-9741-4771-86b9-24e1c4a73c23",
        "tags": []
      },
      "source": [
        "## Classification  Metrics\n",
        "\n",
        "[More Information ](https://www.geeksforgeeks.org/sklearn-classification-metrics/)\n",
        "\n",
        " [Detailed Documentation](https://scikit-learn.org/stable/modules/model_evaluation.html#classification-metrics)"
      ]
    },
    {
      "cell_type": "code",
      "execution_count": 69,
      "id": "6e13f777-401d-4ccd-94df-2a78bd634fe2",
      "metadata": {
        "colab": {
          "base_uri": "https://localhost:8080/",
          "height": 455
        },
        "id": "6e13f777-401d-4ccd-94df-2a78bd634fe2",
        "outputId": "dd4e664e-975e-4f4c-b515-974017270277",
        "tags": []
      },
      "outputs": [
        {
          "data": {
            "image/png": "[encoded data removed]",
            "text/plain": [
              "<Figure size 640x480 with 2 Axes>"
            ]
          },
          "metadata": {},
          "output_type": "display_data"
        }
      ],
      "source": [
        "import numpy as np\n",
        "from sklearn.metrics import confusion_matrix, accuracy_score, precision_score, recall_score, f1_score, matthews_corrcoef, roc_auc_score\n",
        "from sklearn.metrics import ConfusionMatrixDisplay\n",
        "import matplotlib.pyplot as plt\n",
        "\n",
        "# Seed for reproducibility\n",
        "np.random.seed(50)\n",
        "\n",
        "# Generate random binary class dataset\n",
        "Y_actual = np.random.randint(0, 2, 50)\n",
        "Y_predicted = np.array([\n",
        "    1 if (np.random.rand() < 0.8 and y == 1) or (np.random.rand() >= 0.8 and y == 0) else 0\n",
        "    for y in Y_actual\n",
        "])\n",
        "\n",
        "# Compute the confusion matrix\n",
        "cm = confusion_matrix(Y_actual, Y_predicted)\n",
        "\n",
        "# Display the confusion matrix\n",
        "disp = ConfusionMatrixDisplay(confusion_matrix=cm, display_labels=[0, 1])\n",
        "disp.plot(cmap=plt.cm.Blues)\n",
        "plt.show()"
      ]
    },
    {
      "cell_type": "code",
      "execution_count": 71,
      "id": "f780c4f3-0d0c-45b8-8745-f333612034fa",
      "metadata": {
        "colab": {
          "base_uri": "https://localhost:8080/"
        },
        "id": "f780c4f3-0d0c-45b8-8745-f333612034fa",
        "outputId": "1c3e84c3-d4c1-4968-a03f-6ee5df3d9445",
        "tags": []
      },
      "outputs": [
        {
          "name": "stdout",
          "output_type": "stream",
          "text": [
            "Accuracy: 0.78\n"
          ]
        }
      ],
      "source": [
        "# Calculate Accuracy\n",
        "accuracy = accuracy_score(Y_actual, Y_predicted)\n",
        "print(f\"Accuracy: {accuracy}\")\n"
      ]
    },
    {
      "cell_type": "code",
      "execution_count": 72,
      "id": "69068b92-06c1-4e7f-8026-8e8d7ec3ecdd",
      "metadata": {
        "colab": {
          "base_uri": "https://localhost:8080/"
        },
        "id": "69068b92-06c1-4e7f-8026-8e8d7ec3ecdd",
        "outputId": "dcd40e68-eb4a-46a5-9f9b-88c9429fa998",
        "tags": []
      },
      "outputs": [
        {
          "name": "stdout",
          "output_type": "stream",
          "text": [
            "Error Rate: 0.21999999999999997\n"
          ]
        }
      ],
      "source": [
        "# Calculate Error Rate\n",
        "error_rate = 1 - accuracy\n",
        "print(f\"Error Rate: {error_rate}\")\n"
      ]
    },
    {
      "cell_type": "code",
      "execution_count": 73,
      "id": "ecc147ba-15d9-4e65-9734-0d322a5b5a8b",
      "metadata": {
        "colab": {
          "base_uri": "https://localhost:8080/"
        },
        "id": "ecc147ba-15d9-4e65-9734-0d322a5b5a8b",
        "outputId": "ae9f6772-504d-4218-ea00-5a427065a4ab",
        "tags": []
      },
      "outputs": [
        {
          "name": "stdout",
          "output_type": "stream",
          "text": [
            "Sensitivity (Recall): 0.8260869565217391\n"
          ]
        }
      ],
      "source": [
        "# Calculate Sensitivity\n",
        "sensitivity = recall_score(Y_actual, Y_predicted)\n",
        "print(f\"Sensitivity (Recall): {sensitivity}\")\n"
      ]
    },
    {
      "cell_type": "code",
      "execution_count": 74,
      "id": "c8f4a1d7-2abe-40f6-ae8a-a8dfa3a37976",
      "metadata": {
        "colab": {
          "base_uri": "https://localhost:8080/"
        },
        "id": "c8f4a1d7-2abe-40f6-ae8a-a8dfa3a37976",
        "outputId": "40e7cd1f-dc19-46f9-d9ce-b0094fdfbf83",
        "tags": []
      },
      "outputs": [
        {
          "name": "stdout",
          "output_type": "stream",
          "text": [
            "Specificity: 0.7407407407407407\n"
          ]
        }
      ],
      "source": [
        "# Calculate Specificity\n",
        "specificity = cm[0, 0] / (cm[0, 0] + cm[0, 1])\n",
        "print(f\"Specificity: {specificity}\")\n"
      ]
    },
    {
      "cell_type": "code",
      "execution_count": 75,
      "id": "35492d7e-b42f-4f9f-8bfb-e7b74b1b936c",
      "metadata": {
        "colab": {
          "base_uri": "https://localhost:8080/"
        },
        "id": "35492d7e-b42f-4f9f-8bfb-e7b74b1b936c",
        "outputId": "5e91e211-8e97-4350-9c59-9e3f7e44d269",
        "tags": []
      },
      "outputs": [
        {
          "name": "stdout",
          "output_type": "stream",
          "text": [
            "Precision: 0.7307692307692307\n"
          ]
        }
      ],
      "source": [
        "# Calculate Precision\n",
        "precision = precision_score(Y_actual, Y_predicted)\n",
        "print(f\"Precision: {precision}\")"
      ]
    },
    {
      "cell_type": "code",
      "execution_count": 76,
      "id": "5aa19a9a-f20f-44c7-b18a-54a011387308",
      "metadata": {
        "colab": {
          "base_uri": "https://localhost:8080/"
        },
        "id": "5aa19a9a-f20f-44c7-b18a-54a011387308",
        "outputId": "d8baa776-b517-4dd5-f92a-8cec3bd8625c",
        "tags": []
      },
      "outputs": [
        {
          "name": "stdout",
          "output_type": "stream",
          "text": [
            "F1-Score: 0.7755102040816326\n"
          ]
        }
      ],
      "source": [
        "# Calculate F1-Score\n",
        "f1 = f1_score(Y_actual, Y_predicted)\n",
        "print(f\"F1-Score: {f1}\")\n"
      ]
    },
    {
      "cell_type": "code",
      "execution_count": 77,
      "id": "10cca790-6112-4c1b-a892-d07eed9e8a5a",
      "metadata": {
        "colab": {
          "base_uri": "https://localhost:8080/"
        },
        "id": "10cca790-6112-4c1b-a892-d07eed9e8a5a",
        "outputId": "2b0d0c06-daa6-4c76-f7b1-b47344868cb6",
        "tags": []
      },
      "outputs": [
        {
          "name": "stdout",
          "output_type": "stream",
          "text": [
            "Matthews Correlation Coefficient (MCC): 0.5654634890336571\n"
          ]
        }
      ],
      "source": [
        "# Calculate MCC\n",
        "mcc = matthews_corrcoef(Y_actual, Y_predicted)\n",
        "print(f\"Matthews Correlation Coefficient (MCC): {mcc}\")\n"
      ]
    },
    {
      "cell_type": "code",
      "execution_count": 78,
      "id": "db74f1de-86be-451f-acf8-d173fe9b2c67",
      "metadata": {
        "colab": {
          "base_uri": "https://localhost:8080/"
        },
        "id": "db74f1de-86be-451f-acf8-d173fe9b2c67",
        "outputId": "27b9078d-a1d9-419b-949f-2cb8c5f07089",
        "tags": []
      },
      "outputs": [
        {
          "name": "stdout",
          "output_type": "stream",
          "text": [
            "AUC-ROC: 0.78341384863124\n"
          ]
        }
      ],
      "source": [
        "# Calculate AUC-ROC\n",
        "auc_roc = roc_auc_score(Y_actual, Y_predicted)\n",
        "print(f\"AUC-ROC: {auc_roc}\")\n"
      ]
    },
    {
      "cell_type": "code",
      "execution_count": 81,
      "id": "b7009d51-2c13-4a87-996d-742f643373a2",
      "metadata": {
        "colab": {
          "base_uri": "https://localhost:8080/",
          "height": 564
        },
        "id": "b7009d51-2c13-4a87-996d-742f643373a2",
        "outputId": "91edc45e-638a-4c19-df7d-b3322be2b1a5",
        "tags": []
      },
      "outputs": [
        {
          "data": {
            "image/png": "[encoded data removed]",
            "text/plain": [
              "<Figure size 800x600 with 1 Axes>"
            ]
          },
          "metadata": {},
          "output_type": "display_data"
        }
      ],
      "source": [
        "import numpy as np\n",
        "import matplotlib.pyplot as plt\n",
        "from sklearn.datasets import make_classification\n",
        "from sklearn.model_selection import train_test_split\n",
        "from sklearn.linear_model import LogisticRegression\n",
        "from sklearn.metrics import roc_curve, roc_auc_score\n",
        "\n",
        "# Generate a binary classification dataset\n",
        "X, y = make_classification(n_samples=1200, n_features=18, n_classes=2, random_state=28)\n",
        "\n",
        "# Split the dataset into training and testing sets\n",
        "X_train, X_test, y_train, y_test = train_test_split(X, y, test_size=0.3, random_state=28)\n",
        "\n",
        "# Initialize a Logistic Regression classifier\n",
        "model = LogisticRegression(solver='liblinear')\n",
        "\n",
        "# Train the model\n",
        "model.fit(X_train, y_train)\n",
        "\n",
        "# Predict probabilities for the test data\n",
        "y_scores = model.predict_proba(X_test)[:, 1]  # Get the probability of the positive class\n",
        "\n",
        "# Compute ROC curve and AUC\n",
        "fpr, tpr, thresholds = roc_curve(y_test, y_scores)\n",
        "auc = roc_auc_score(y_test, y_scores)\n",
        "\n",
        "# Plotting the ROC curve\n",
        "plt.figure(figsize=(8, 6))\n",
        "plt.plot(fpr, tpr, color='blue', lw=2, label=f'ROC curve (area = {auc:.2f})')\n",
        "plt.plot([0, 1], [0, 1], color='red', lw=2, linestyle='--', label='Chance (area = 0.50)')\n",
        "plt.xlim([0.0, 1.0])\n",
        "plt.ylim([0.0, 1.05])\n",
        "plt.xlabel('False Positive Rate (FPR)')\n",
        "plt.ylabel('True Positive Rate (TPR)')\n",
        "plt.title('Receiver Operating Characteristic (ROC) Curve')\n",
        "plt.legend(loc=\"lower right\")\n",
        "plt.grid(True)\n",
        "plt.show()\n"
      ]
    },
    {
      "cell_type": "code",
      "execution_count": 82,
      "id": "5f69fe3c-4d7f-4751-89dc-6ea8c25bf204",
      "metadata": {
        "colab": {
          "base_uri": "https://localhost:8080/",
          "height": 557
        },
        "id": "5f69fe3c-4d7f-4751-89dc-6ea8c25bf204",
        "outputId": "5e90e7fb-bc34-4ff1-cf5c-d2e61a71130c",
        "tags": []
      },
      "outputs": [
        {
          "data": {
            "image/png": "[encoded data removed]",
            "text/plain": [
              "<Figure size 1400x600 with 2 Axes>"
            ]
          },
          "metadata": {},
          "output_type": "display_data"
        }
      ],
      "source": [
        "import numpy as np\n",
        "import matplotlib.pyplot as plt\n",
        "from sklearn.datasets import make_classification\n",
        "from sklearn.model_selection import train_test_split\n",
        "from sklearn.ensemble import RandomForestClassifier\n",
        "from sklearn.metrics import roc_auc_score\n",
        "\n",
        "# Generate a synthetic binary classification dataset\n",
        "X, y = make_classification(n_samples=1200, n_features=18, weights=[0.9], flip_y=0, random_state=28)\n",
        "\n",
        "# Split the dataset into training and testing sets\n",
        "X_train, X_test, y_train, y_test = train_test_split(X, y, test_size=0.2, random_state=28)\n",
        "\n",
        "# Train a RandomForest classifier\n",
        "model = RandomForestClassifier(n_estimators=100, random_state=28)\n",
        "model.fit(X_train, y_train)\n",
        "\n",
        "# Predict probabilities for the test set\n",
        "predicted_proba = model.predict_proba(X_test)[:, 1]\n",
        "\n",
        "# Sort the instances by descending order of predicted probabilities\n",
        "sorted_indices = np.argsort(predicted_proba)[::-1]\n",
        "sorted_y_test = y_test[sorted_indices]\n",
        "\n",
        "# Calculate cumulative gains\n",
        "cumulative_gains = np.cumsum(sorted_y_test) / sum(y_test)\n",
        "\n",
        "# Calculate lift\n",
        "lift = cumulative_gains / (np.arange(len(y_test)) + 1) / np.mean(y_test)\n",
        "\n",
        "# Plotting gain and lift charts\n",
        "fig, (ax1, ax2) = plt.subplots(1, 2, figsize=(14, 6))\n",
        "# Gain Chart\n",
        "ax1.plot(np.arange(len(y_test)) / len(y_test), cumulative_gains, label='Gain', color='blue')\n",
        "ax1.plot([0, 1], [0, 1], 'k--', label='Baseline')\n",
        "ax1.set_title('Gain Chart')\n",
        "ax1.set_xlabel('Percentage of sample')\n",
        "ax1.set_ylabel('Cumulative gain')\n",
        "ax1.legend()\n",
        "\n",
        "# Lift Chart\n",
        "ax2.plot(np.arange(len(y_test)) / len(y_test), lift, label='Lift', color='green')\n",
        "ax2.set_title('Lift Chart')\n",
        "ax2.set_xlabel('Percentage of sample')\n",
        "ax2.set_ylabel('Lift')\n",
        "ax2.legend()\n",
        "\n",
        "plt.show()\n"
      ]
    },
    {
      "cell_type": "code",
      "execution_count": null,
      "id": "d70337cb-e367-4bae-bc1d-9c9ded7431ef",
      "metadata": {
        "id": "d70337cb-e367-4bae-bc1d-9c9ded7431ef"
      },
      "outputs": [],
      "source": []
    }
  ],
  "metadata": {
    "colab": {
      "provenance": []
    },
    "kernelspec": {
      "display_name": "Python 3 (ipykernel)",
      "language": "python",
      "name": "python3"
    },
    "language_info": {
      "codemirror_mode": {
        "name": "ipython",
        "version": 3
      },
      "file_extension": ".py",
      "mimetype": "text/x-python",
      "name": "python",
      "nbconvert_exporter": "python",
      "pygments_lexer": "ipython3",
      "version": "3.11.4"
    }
  },
  "nbformat": 4,
  "nbformat_minor": 5
}
